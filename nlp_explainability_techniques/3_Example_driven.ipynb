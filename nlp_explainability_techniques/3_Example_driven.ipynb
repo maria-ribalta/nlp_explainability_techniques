{
 "cells": [
  {
   "cell_type": "markdown",
   "metadata": {},
   "source": [
    "## 3. Example Driven"
   ]
  },
  {
   "cell_type": "markdown",
   "metadata": {},
   "source": [
    "## Introduction"
   ]
  },
  {
   "cell_type": "markdown",
   "metadata": {},
   "source": [
    "Such approaches explain the prediction of an input instance by identifying and presenting other instances, usually from available labeled data, that are semantically similar to the input instance.\n",
    "\n",
    "The paper proposes, among other examples: [Auditing Deep Learning processes through Kernel-based Explanatory Models](https://aclanthology.org/D19-1415.pdf).\n",
    "* We tried to clone and use the library, however it is notably outdated (some libraries have long-deprecated features and the code has not been adapted), there is very few information in the ReadMe on the usage (after having updated the code by hand with the outdated libraries, the server coudl be loaded locally, but it required a user and a password, that is hardcoded in the source of the project). Even so after bypassing these problems, the server did not load anymore; so this method was desestimated for this project due to its lack of mainteinance."
   ]
  },
  {
   "cell_type": "markdown",
   "metadata": {},
   "source": [
    "# Experiments - LRP"
   ]
  },
  {
   "cell_type": "markdown",
   "metadata": {},
   "source": [
    "LRP stands for layerwise relevance propagation."
   ]
  },
  {
   "cell_type": "code",
   "execution_count": 32,
   "metadata": {},
   "outputs": [
    {
     "name": "stderr",
     "output_type": "stream",
     "text": [
      "/var/folders/b5/zsgbxty17rn21slqnmj3c2t00000gn/T/ipykernel_35744/923784575.py:3: DeprecationWarning: Importing display from IPython.core.display is deprecated since IPython 7.14, please import from IPython display\n",
      "  from IPython.core.display import display, HTML\n"
     ]
    }
   ],
   "source": [
    "import numpy as np\n",
    "import torch\n",
    "from IPython.core.display import display, HTML\n",
    "from transformers import AutoModelForSequenceClassification\n",
    "from transformers import AutoTokenizer\n",
    "\n",
    "from interpret_nlp.modules.lrp_bert_modules import LRPBertForSequenceClassification\n",
    "from interpret_nlp.visualization.heatmap import html_heatmap\n",
    "\n",
    "from src.preprocess import get_train_dev_test_data\n",
    "from tokenizers import TextInputSequence"
   ]
  },
  {
   "cell_type": "markdown",
   "metadata": {},
   "source": [
    "First we need our finetuned model:"
   ]
  },
  {
   "cell_type": "code",
   "execution_count": null,
   "metadata": {},
   "outputs": [],
   "source": [
    "# Uncomment this to finetune the model!\n",
    "# it takes a while, so it is commented to avoid re-doing the same step several times\n",
    "\n",
    "# !python3 src/finetune.py"
   ]
  },
  {
   "cell_type": "markdown",
   "metadata": {},
   "source": [
    "The module we are going to use for LRP requires a series of files that we need to store from our model:"
   ]
  },
  {
   "cell_type": "code",
   "execution_count": 6,
   "metadata": {},
   "outputs": [],
   "source": [
    "path = \"pretrained_model/\"\n",
    "config_path = f\"{path}/config.json\"\n",
    "state_dict_path = f\"{path}/training_args.bin\""
   ]
  },
  {
   "cell_type": "code",
   "execution_count": 7,
   "metadata": {},
   "outputs": [],
   "source": [
    "tokenizer = AutoTokenizer.from_pretrained(\"google-bert/bert-base-cased\")\n",
    "model = AutoModelForSequenceClassification.from_pretrained(\n",
    "    \"pretrained_model/\", num_labels=4, output_attentions=True\n",
    ")"
   ]
  },
  {
   "cell_type": "code",
   "execution_count": 8,
   "metadata": {},
   "outputs": [],
   "source": [
    "torch.save(model.config, config_path)\n",
    "torch.save(model.state_dict(), state_dict_path)"
   ]
  },
  {
   "cell_type": "markdown",
   "metadata": {},
   "source": [
    "Now that we have got everything set up, we can load our model configuration into the LRP model and use it with our test data."
   ]
  },
  {
   "cell_type": "code",
   "execution_count": 9,
   "metadata": {},
   "outputs": [
    {
     "data": {
      "text/plain": [
       "<All keys matched successfully>"
      ]
     },
     "execution_count": 9,
     "metadata": {},
     "output_type": "execute_result"
    }
   ],
   "source": [
    "model = LRPBertForSequenceClassification(torch.load(config_path))\n",
    "model.load_state_dict(torch.load(state_dict_path))"
   ]
  },
  {
   "cell_type": "code",
   "execution_count": 11,
   "metadata": {},
   "outputs": [],
   "source": [
    "_, _, test = get_train_dev_test_data()"
   ]
  },
  {
   "cell_type": "code",
   "execution_count": 59,
   "metadata": {},
   "outputs": [],
   "source": [
    "def plot_attr_forward_pass(sample):\n",
    "    print(f\"LRP results for sentence {sample}\")\n",
    "    inputs = tokenizer(sample, return_tensors=\"pt\")\n",
    "    model.attr()\n",
    "    output = model(**inputs)\n",
    "\n",
    "    print(\"Attr Forward Pass Output:\")\n",
    "    print(output)\n",
    "    return output"
   ]
  },
  {
   "cell_type": "code",
   "execution_count": 60,
   "metadata": {},
   "outputs": [],
   "source": [
    "def plot_lrp_scores(sample, output):\n",
    "    tokens = tokenizer.tokenize(TextInputSequence(sample))\n",
    "\n",
    "    rel_y = np.zeros(output.shape)\n",
    "    rel_y[:, 1] = output[:, 1]\n",
    "    rel_word, rel_pos, rel_type, rel_embed = model.attr_backward(rel_y, eps=0.1)\n",
    "    rel_word = np.sum(rel_word[0, 1:-1], -1)\n",
    "    rel_pos = np.sum(rel_pos[0, 1:-1], -1)\n",
    "    rel_type = np.sum(rel_type[0, 1:-1], -1)\n",
    "    rel_embed = np.sum(rel_embed[0, 1:-1], -1)\n",
    "\n",
    "    print(\"LRP Scores:\")\n",
    "    for t, s in zip(tokens, rel_embed):\n",
    "        print(t, s, sep=\": \")\n",
    "\n",
    "    print(\"Relevance of word embeddings:\")\n",
    "    display(HTML(html_heatmap(tokens, list(rel_word))))\n",
    "\n",
    "    print(\"Relevance of positional embeddings:\")\n",
    "    display(HTML(html_heatmap(tokens, list(rel_pos))))\n",
    "\n",
    "    print(\"Relevance of type embeddings:\")\n",
    "    display(HTML(html_heatmap(tokens, list(rel_type))))\n",
    "\n",
    "    print(\"Relevance of combined embeddings:\")\n",
    "    display(HTML(html_heatmap(tokens, list(rel_embed))))"
   ]
  },
  {
   "cell_type": "code",
   "execution_count": 61,
   "metadata": {},
   "outputs": [
    {
     "name": "stdout",
     "output_type": "stream",
     "text": [
      "LRP results for sentence Fuck The Patriarchy keychain on the ground\n"
     ]
    },
    {
     "name": "stderr",
     "output_type": "stream",
     "text": [
      "/Users/mariaribalta/Documents/EHU/DeepLearning/FinalProject/venv/lib/python3.12/site-packages/transformers/modeling_utils.py:993: FutureWarning: The `device` argument is deprecated and will be removed in v5 of Transformers.\n",
      "  warnings.warn(\n"
     ]
    },
    {
     "name": "stdout",
     "output_type": "stream",
     "text": [
      "Attr Forward Pass Output:\n",
      "[[-0.9460913 -1.5576597  4.5470047 -2.16687  ]]\n",
      "LRP Scores:\n",
      "Fuck: 0.0035158381137659032\n",
      "The: 0.01145847863435421\n",
      "Patriarch: 0.006922768180123209\n",
      "##y: -0.03876505146881995\n",
      "key: -0.03356181444475432\n",
      "##cha: 0.01869896553331519\n",
      "##in: -0.00391570416790995\n",
      "on: 0.052141691096447076\n",
      "the: -0.011557318260907308\n",
      "ground: -0.010196334002654885\n",
      "Relevance of word embeddings:\n"
     ]
    },
    {
     "data": {
      "text/html": [
       "<span style=\"color:#ecd1c3;font-weight:bold;background-color: #ffffff;padding-top: 15px;padding-bottom: 15px;\"> Fuck </span> <span style=\"color:#f6b79c;font-weight:bold;background-color: #ffffff;padding-top: 15px;padding-bottom: 15px;\"> The </span> <span style=\"color:#dbdcde;font-weight:bold;background-color: #ffffff;padding-top: 15px;padding-bottom: 15px;\"> Patriarch </span> <span style=\"color:#3a4cc0;font-weight:bold;background-color: #ffffff;padding-top: 15px;padding-bottom: 15px;\"> ##y </span> <span style=\"color:#465dcf;font-weight:bold;background-color: #ffffff;padding-top: 15px;padding-bottom: 15px;\"> key </span> <span style=\"color:#f08d6f;font-weight:bold;background-color: #ffffff;padding-top: 15px;padding-bottom: 15px;\"> ##cha </span> <span style=\"color:#c9d7ee;font-weight:bold;background-color: #ffffff;padding-top: 15px;padding-bottom: 15px;\"> ##in </span> <span style=\"color:#bf282e;font-weight:bold;background-color: #ffffff;padding-top: 15px;padding-bottom: 15px;\"> on </span> <span style=\"color:#b2cbfb;font-weight:bold;background-color: #ffffff;padding-top: 15px;padding-bottom: 15px;\"> the </span> <span style=\"color:#cfd9ea;font-weight:bold;background-color: #ffffff;padding-top: 15px;padding-bottom: 15px;\"> ground </span> "
      ],
      "text/plain": [
       "<IPython.core.display.HTML object>"
      ]
     },
     "metadata": {},
     "output_type": "display_data"
    },
    {
     "name": "stdout",
     "output_type": "stream",
     "text": [
      "Relevance of positional embeddings:\n"
     ]
    },
    {
     "data": {
      "text/html": [
       "<span style=\"color:#c2d4f3;font-weight:bold;background-color: #ffffff;padding-top: 15px;padding-bottom: 15px;\"> Fuck </span> <span style=\"color:#9bbbfe;font-weight:bold;background-color: #ffffff;padding-top: 15px;padding-bottom: 15px;\"> The </span> <span style=\"color:#f6bca2;font-weight:bold;background-color: #ffffff;padding-top: 15px;padding-bottom: 15px;\"> Patriarch </span> <span style=\"color:#f1cab6;font-weight:bold;background-color: #ffffff;padding-top: 15px;padding-bottom: 15px;\"> ##y </span> <span style=\"color:#f6ab8d;font-weight:bold;background-color: #ffffff;padding-top: 15px;padding-bottom: 15px;\"> key </span> <span style=\"color:#d1dae8;font-weight:bold;background-color: #ffffff;padding-top: 15px;padding-bottom: 15px;\"> ##cha </span> <span style=\"color:#e5d8d0;font-weight:bold;background-color: #ffffff;padding-top: 15px;padding-bottom: 15px;\"> ##in </span> <span style=\"color:#b30326;font-weight:bold;background-color: #ffffff;padding-top: 15px;padding-bottom: 15px;\"> on </span> <span style=\"color:#e7d6cc;font-weight:bold;background-color: #ffffff;padding-top: 15px;padding-bottom: 15px;\"> the </span> <span style=\"color:#cfd9ea;font-weight:bold;background-color: #ffffff;padding-top: 15px;padding-bottom: 15px;\"> ground </span> "
      ],
      "text/plain": [
       "<IPython.core.display.HTML object>"
      ]
     },
     "metadata": {},
     "output_type": "display_data"
    },
    {
     "name": "stdout",
     "output_type": "stream",
     "text": [
      "Relevance of type embeddings:\n"
     ]
    },
    {
     "data": {
      "text/html": [
       "<span style=\"color:#d2dae7;font-weight:bold;background-color: #ffffff;padding-top: 15px;padding-bottom: 15px;\"> Fuck </span> <span style=\"color:#f49d7e;font-weight:bold;background-color: #ffffff;padding-top: 15px;padding-bottom: 15px;\"> The </span> <span style=\"color:#f2c9b5;font-weight:bold;background-color: #ffffff;padding-top: 15px;padding-bottom: 15px;\"> Patriarch </span> <span style=\"color:#f4c2aa;font-weight:bold;background-color: #ffffff;padding-top: 15px;padding-bottom: 15px;\"> ##y </span> <span style=\"color:#f4c4ad;font-weight:bold;background-color: #ffffff;padding-top: 15px;padding-bottom: 15px;\"> key </span> <span style=\"color:#a6c3fd;font-weight:bold;background-color: #ffffff;padding-top: 15px;padding-bottom: 15px;\"> ##cha </span> <span style=\"color:#ecd2c4;font-weight:bold;background-color: #ffffff;padding-top: 15px;padding-bottom: 15px;\"> ##in </span> <span style=\"color:#3a4cc0;font-weight:bold;background-color: #ffffff;padding-top: 15px;padding-bottom: 15px;\"> on </span> <span style=\"color:#efcebc;font-weight:bold;background-color: #ffffff;padding-top: 15px;padding-bottom: 15px;\"> the </span> <span style=\"color:#bbd1f7;font-weight:bold;background-color: #ffffff;padding-top: 15px;padding-bottom: 15px;\"> ground </span> "
      ],
      "text/plain": [
       "<IPython.core.display.HTML object>"
      ]
     },
     "metadata": {},
     "output_type": "display_data"
    },
    {
     "name": "stdout",
     "output_type": "stream",
     "text": [
      "Relevance of combined embeddings:\n"
     ]
    },
    {
     "data": {
      "text/html": [
       "<span style=\"color:#e5d8d0;font-weight:bold;background-color: #ffffff;padding-top: 15px;padding-bottom: 15px;\"> Fuck </span> <span style=\"color:#f2c7b2;font-weight:bold;background-color: #ffffff;padding-top: 15px;padding-bottom: 15px;\"> The </span> <span style=\"color:#ecd2c4;font-weight:bold;background-color: #ffffff;padding-top: 15px;padding-bottom: 15px;\"> Patriarch </span> <span style=\"color:#6182ea;font-weight:bold;background-color: #ffffff;padding-top: 15px;padding-bottom: 15px;\"> ##y </span> <span style=\"color:#7395f4;font-weight:bold;background-color: #ffffff;padding-top: 15px;padding-bottom: 15px;\"> key </span> <span style=\"color:#f7b397;font-weight:bold;background-color: #ffffff;padding-top: 15px;padding-bottom: 15px;\"> ##cha </span> <span style=\"color:#d2dae7;font-weight:bold;background-color: #ffffff;padding-top: 15px;padding-bottom: 15px;\"> ##in </span> <span style=\"color:#b30326;font-weight:bold;background-color: #ffffff;padding-top: 15px;padding-bottom: 15px;\"> on </span> <span style=\"color:#bcd1f6;font-weight:bold;background-color: #ffffff;padding-top: 15px;padding-bottom: 15px;\"> the </span> <span style=\"color:#c0d3f5;font-weight:bold;background-color: #ffffff;padding-top: 15px;padding-bottom: 15px;\"> ground </span> "
      ],
      "text/plain": [
       "<IPython.core.display.HTML object>"
      ]
     },
     "metadata": {},
     "output_type": "display_data"
    }
   ],
   "source": [
    "sample = test[\"verse_text\"][22]\n",
    "output = plot_attr_forward_pass(sample)\n",
    "plot_lrp_scores(sample, output)"
   ]
  },
  {
   "cell_type": "code",
   "execution_count": 62,
   "metadata": {},
   "outputs": [
    {
     "name": "stdout",
     "output_type": "stream",
     "text": [
      "LRP results for sentence Just between us, did the love affair maim you all too well?\n",
      "Attr Forward Pass Output:\n",
      "[[ 2.465749   -1.7446934  -1.069228    0.37906298]]\n",
      "LRP Scores:\n",
      "Just: -0.004472918022042428\n",
      "between: -0.014479319003017129\n",
      "us: -0.003072913182871711\n",
      ",: -0.00022758517016512742\n",
      "did: -0.0230418528388121\n",
      "the: 0.0027981546134820574\n",
      "love: 0.0006156135456628592\n",
      "affair: -0.0013547769309030957\n",
      "ma: -0.07915791916835851\n",
      "##im: -0.027547992649463837\n",
      "you: 0.0026281125802477415\n",
      "all: 0.031026367439432788\n",
      "too: -0.0021704092748219767\n",
      "well: 0.014077428293788757\n",
      "?: 0.0034378083720426255\n",
      "Relevance of word embeddings:\n"
     ]
    },
    {
     "data": {
      "text/html": [
       "<span style=\"color:#d6dbe4;font-weight:bold;background-color: #ffffff;padding-top: 15px;padding-bottom: 15px;\"> Just </span> <span style=\"color:#c3d5f2;font-weight:bold;background-color: #ffffff;padding-top: 15px;padding-bottom: 15px;\"> between </span> <span style=\"color:#d2dae7;font-weight:bold;background-color: #ffffff;padding-top: 15px;padding-bottom: 15px;\"> us </span> <span style=\"color:#dedbda;font-weight:bold;background-color: #ffffff;padding-top: 15px;padding-bottom: 15px;\"> , </span> <span style=\"color:#afcafb;font-weight:bold;background-color: #ffffff;padding-top: 15px;padding-bottom: 15px;\"> did </span> <span style=\"color:#e1dad6;font-weight:bold;background-color: #ffffff;padding-top: 15px;padding-bottom: 15px;\"> the </span> <span style=\"color:#e3d9d3;font-weight:bold;background-color: #ffffff;padding-top: 15px;padding-bottom: 15px;\"> love </span> <span style=\"color:#d5dbe5;font-weight:bold;background-color: #ffffff;padding-top: 15px;padding-bottom: 15px;\"> affair </span> <span style=\"color:#3a4cc0;font-weight:bold;background-color: #ffffff;padding-top: 15px;padding-bottom: 15px;\"> ma </span> <span style=\"color:#779af6;font-weight:bold;background-color: #ffffff;padding-top: 15px;padding-bottom: 15px;\"> ##im </span> <span style=\"color:#dcdcdd;font-weight:bold;background-color: #ffffff;padding-top: 15px;padding-bottom: 15px;\"> you </span> <span style=\"color:#ee8669;font-weight:bold;background-color: #ffffff;padding-top: 15px;padding-bottom: 15px;\"> all </span> <span style=\"color:#d6dbe4;font-weight:bold;background-color: #ffffff;padding-top: 15px;padding-bottom: 15px;\"> too </span> <span style=\"color:#f2c7b2;font-weight:bold;background-color: #ffffff;padding-top: 15px;padding-bottom: 15px;\"> well </span> <span style=\"color:#e2d9d4;font-weight:bold;background-color: #ffffff;padding-top: 15px;padding-bottom: 15px;\"> ? </span> "
      ],
      "text/plain": [
       "<IPython.core.display.HTML object>"
      ]
     },
     "metadata": {},
     "output_type": "display_data"
    },
    {
     "name": "stdout",
     "output_type": "stream",
     "text": [
      "Relevance of positional embeddings:\n"
     ]
    },
    {
     "data": {
      "text/html": [
       "<span style=\"color:#dfdbd9;font-weight:bold;background-color: #ffffff;padding-top: 15px;padding-bottom: 15px;\"> Just </span> <span style=\"color:#ced9eb;font-weight:bold;background-color: #ffffff;padding-top: 15px;padding-bottom: 15px;\"> between </span> <span style=\"color:#e8d5ca;font-weight:bold;background-color: #ffffff;padding-top: 15px;padding-bottom: 15px;\"> us </span> <span style=\"color:#d6dbe4;font-weight:bold;background-color: #ffffff;padding-top: 15px;padding-bottom: 15px;\"> , </span> <span style=\"color:#d0dae9;font-weight:bold;background-color: #ffffff;padding-top: 15px;padding-bottom: 15px;\"> did </span> <span style=\"color:#dddcdb;font-weight:bold;background-color: #ffffff;padding-top: 15px;padding-bottom: 15px;\"> the </span> <span style=\"color:#f3c6b0;font-weight:bold;background-color: #ffffff;padding-top: 15px;padding-bottom: 15px;\"> love </span> <span style=\"color:#e3d9d3;font-weight:bold;background-color: #ffffff;padding-top: 15px;padding-bottom: 15px;\"> affair </span> <span style=\"color:#5775e1;font-weight:bold;background-color: #ffffff;padding-top: 15px;padding-bottom: 15px;\"> ma </span> <span style=\"color:#b30326;font-weight:bold;background-color: #ffffff;padding-top: 15px;padding-bottom: 15px;\"> ##im </span> <span style=\"color:#f2c9b5;font-weight:bold;background-color: #ffffff;padding-top: 15px;padding-bottom: 15px;\"> you </span> <span style=\"color:#b4cdfa;font-weight:bold;background-color: #ffffff;padding-top: 15px;padding-bottom: 15px;\"> all </span> <span style=\"color:#e1dad6;font-weight:bold;background-color: #ffffff;padding-top: 15px;padding-bottom: 15px;\"> too </span> <span style=\"color:#e6d7cf;font-weight:bold;background-color: #ffffff;padding-top: 15px;padding-bottom: 15px;\"> well </span> <span style=\"color:#ecd1c3;font-weight:bold;background-color: #ffffff;padding-top: 15px;padding-bottom: 15px;\"> ? </span> "
      ],
      "text/plain": [
       "<IPython.core.display.HTML object>"
      ]
     },
     "metadata": {},
     "output_type": "display_data"
    },
    {
     "name": "stdout",
     "output_type": "stream",
     "text": [
      "Relevance of type embeddings:\n"
     ]
    },
    {
     "data": {
      "text/html": [
       "<span style=\"color:#ced9eb;font-weight:bold;background-color: #ffffff;padding-top: 15px;padding-bottom: 15px;\"> Just </span> <span style=\"color:#dadcdf;font-weight:bold;background-color: #ffffff;padding-top: 15px;padding-bottom: 15px;\"> between </span> <span style=\"color:#dcdcdd;font-weight:bold;background-color: #ffffff;padding-top: 15px;padding-bottom: 15px;\"> us </span> <span style=\"color:#e1dad6;font-weight:bold;background-color: #ffffff;padding-top: 15px;padding-bottom: 15px;\"> , </span> <span style=\"color:#efcebc;font-weight:bold;background-color: #ffffff;padding-top: 15px;padding-bottom: 15px;\"> did </span> <span style=\"color:#dbdcde;font-weight:bold;background-color: #ffffff;padding-top: 15px;padding-bottom: 15px;\"> the </span> <span style=\"color:#5f7ee7;font-weight:bold;background-color: #ffffff;padding-top: 15px;padding-bottom: 15px;\"> love </span> <span style=\"color:#edd0c1;font-weight:bold;background-color: #ffffff;padding-top: 15px;padding-bottom: 15px;\"> affair </span> <span style=\"color:#df644f;font-weight:bold;background-color: #ffffff;padding-top: 15px;padding-bottom: 15px;\"> ma </span> <span style=\"color:#f2c9b5;font-weight:bold;background-color: #ffffff;padding-top: 15px;padding-bottom: 15px;\"> ##im </span> <span style=\"color:#d2dae7;font-weight:bold;background-color: #ffffff;padding-top: 15px;padding-bottom: 15px;\"> you </span> <span style=\"color:#3a4cc0;font-weight:bold;background-color: #ffffff;padding-top: 15px;padding-bottom: 15px;\"> all </span> <span style=\"color:#dddcdb;font-weight:bold;background-color: #ffffff;padding-top: 15px;padding-bottom: 15px;\"> too </span> <span style=\"color:#9fbefe;font-weight:bold;background-color: #ffffff;padding-top: 15px;padding-bottom: 15px;\"> well </span> <span style=\"color:#bbd1f7;font-weight:bold;background-color: #ffffff;padding-top: 15px;padding-bottom: 15px;\"> ? </span> "
      ],
      "text/plain": [
       "<IPython.core.display.HTML object>"
      ]
     },
     "metadata": {},
     "output_type": "display_data"
    },
    {
     "name": "stdout",
     "output_type": "stream",
     "text": [
      "Relevance of combined embeddings:\n"
     ]
    },
    {
     "data": {
      "text/html": [
       "<span style=\"color:#d5dbe5;font-weight:bold;background-color: #ffffff;padding-top: 15px;padding-bottom: 15px;\"> Just </span> <span style=\"color:#c2d4f3;font-weight:bold;background-color: #ffffff;padding-top: 15px;padding-bottom: 15px;\"> between </span> <span style=\"color:#d8dbe1;font-weight:bold;background-color: #ffffff;padding-top: 15px;padding-bottom: 15px;\"> us </span> <span style=\"color:#dcdcdd;font-weight:bold;background-color: #ffffff;padding-top: 15px;padding-bottom: 15px;\"> , </span> <span style=\"color:#b0cbfb;font-weight:bold;background-color: #ffffff;padding-top: 15px;padding-bottom: 15px;\"> did </span> <span style=\"color:#e1dad6;font-weight:bold;background-color: #ffffff;padding-top: 15px;padding-bottom: 15px;\"> the </span> <span style=\"color:#dddcdb;font-weight:bold;background-color: #ffffff;padding-top: 15px;padding-bottom: 15px;\"> love </span> <span style=\"color:#dadcdf;font-weight:bold;background-color: #ffffff;padding-top: 15px;padding-bottom: 15px;\"> affair </span> <span style=\"color:#3a4cc0;font-weight:bold;background-color: #ffffff;padding-top: 15px;padding-bottom: 15px;\"> ma </span> <span style=\"color:#a7c4fd;font-weight:bold;background-color: #ffffff;padding-top: 15px;padding-bottom: 15px;\"> ##im </span> <span style=\"color:#e1dad6;font-weight:bold;background-color: #ffffff;padding-top: 15px;padding-bottom: 15px;\"> you </span> <span style=\"color:#f7ad8f;font-weight:bold;background-color: #ffffff;padding-top: 15px;padding-bottom: 15px;\"> all </span> <span style=\"color:#d9dce0;font-weight:bold;background-color: #ffffff;padding-top: 15px;padding-bottom: 15px;\"> too </span> <span style=\"color:#efcdbb;font-weight:bold;background-color: #ffffff;padding-top: 15px;padding-bottom: 15px;\"> well </span> <span style=\"color:#e2d9d4;font-weight:bold;background-color: #ffffff;padding-top: 15px;padding-bottom: 15px;\"> ? </span> "
      ],
      "text/plain": [
       "<IPython.core.display.HTML object>"
      ]
     },
     "metadata": {},
     "output_type": "display_data"
    }
   ],
   "source": [
    "sample = test[\"verse_text\"][-2]\n",
    "output = plot_attr_forward_pass(sample)\n",
    "plot_lrp_scores(sample, output)"
   ]
  },
  {
   "cell_type": "code",
   "execution_count": 64,
   "metadata": {},
   "outputs": [
    {
     "name": "stdout",
     "output_type": "stream",
     "text": [
      "LRP results for sentence Now you mail back my things and I walk home alone\n",
      "Attr Forward Pass Output:\n",
      "[[-1.303706  -1.1475993  4.716536  -2.1116943]]\n",
      "LRP Scores:\n",
      "Now: -0.045022115162623444\n",
      "you: 0.010050564956280254\n",
      "mail: 0.11412395617036492\n",
      "back: -0.0029099929285758396\n",
      "my: 0.018664112751538498\n",
      "things: -0.010082488754857274\n",
      "and: -0.0046736754090115195\n",
      "I: 0.019453498003583227\n",
      "walk: -0.12283465138655994\n",
      "home: 0.049154334412124905\n",
      "alone: 0.38974890877967383\n",
      "Relevance of word embeddings:\n"
     ]
    },
    {
     "data": {
      "text/html": [
       "<span style=\"color:#cad8ee;font-weight:bold;background-color: #ffffff;padding-top: 15px;padding-bottom: 15px;\"> Now </span> <span style=\"color:#e7d6cc;font-weight:bold;background-color: #ffffff;padding-top: 15px;padding-bottom: 15px;\"> you </span> <span style=\"color:#f7b092;font-weight:bold;background-color: #ffffff;padding-top: 15px;padding-bottom: 15px;\"> mail </span> <span style=\"color:#d9dce0;font-weight:bold;background-color: #ffffff;padding-top: 15px;padding-bottom: 15px;\"> back </span> <span style=\"color:#e5d8d0;font-weight:bold;background-color: #ffffff;padding-top: 15px;padding-bottom: 15px;\"> my </span> <span style=\"color:#e0dad7;font-weight:bold;background-color: #ffffff;padding-top: 15px;padding-bottom: 15px;\"> things </span> <span style=\"color:#dbdcde;font-weight:bold;background-color: #ffffff;padding-top: 15px;padding-bottom: 15px;\"> and </span> <span style=\"color:#e3d9d3;font-weight:bold;background-color: #ffffff;padding-top: 15px;padding-bottom: 15px;\"> I </span> <span style=\"color:#7ea1f9;font-weight:bold;background-color: #ffffff;padding-top: 15px;padding-bottom: 15px;\"> walk </span> <span style=\"color:#ead3c7;font-weight:bold;background-color: #ffffff;padding-top: 15px;padding-bottom: 15px;\"> home </span> <span style=\"color:#b30326;font-weight:bold;background-color: #ffffff;padding-top: 15px;padding-bottom: 15px;\"> alone </span> "
      ],
      "text/plain": [
       "<IPython.core.display.HTML object>"
      ]
     },
     "metadata": {},
     "output_type": "display_data"
    },
    {
     "name": "stdout",
     "output_type": "stream",
     "text": [
      "Relevance of positional embeddings:\n"
     ]
    },
    {
     "data": {
      "text/html": [
       "<span style=\"color:#c3d5f2;font-weight:bold;background-color: #ffffff;padding-top: 15px;padding-bottom: 15px;\"> Now </span> <span style=\"color:#5673e0;font-weight:bold;background-color: #ffffff;padding-top: 15px;padding-bottom: 15px;\"> you </span> <span style=\"color:#f4c2aa;font-weight:bold;background-color: #ffffff;padding-top: 15px;padding-bottom: 15px;\"> mail </span> <span style=\"color:#e4d8d1;font-weight:bold;background-color: #ffffff;padding-top: 15px;padding-bottom: 15px;\"> back </span> <span style=\"color:#c5d5f2;font-weight:bold;background-color: #ffffff;padding-top: 15px;padding-bottom: 15px;\"> my </span> <span style=\"color:#efcdbb;font-weight:bold;background-color: #ffffff;padding-top: 15px;padding-bottom: 15px;\"> things </span> <span style=\"color:#d1dae8;font-weight:bold;background-color: #ffffff;padding-top: 15px;padding-bottom: 15px;\"> and </span> <span style=\"color:#ebd3c6;font-weight:bold;background-color: #ffffff;padding-top: 15px;padding-bottom: 15px;\"> I </span> <span style=\"color:#b30326;font-weight:bold;background-color: #ffffff;padding-top: 15px;padding-bottom: 15px;\"> walk </span> <span style=\"color:#ead3c7;font-weight:bold;background-color: #ffffff;padding-top: 15px;padding-bottom: 15px;\"> home </span> <span style=\"color:#f1cbb8;font-weight:bold;background-color: #ffffff;padding-top: 15px;padding-bottom: 15px;\"> alone </span> "
      ],
      "text/plain": [
       "<IPython.core.display.HTML object>"
      ]
     },
     "metadata": {},
     "output_type": "display_data"
    },
    {
     "name": "stdout",
     "output_type": "stream",
     "text": [
      "Relevance of type embeddings:\n"
     ]
    },
    {
     "data": {
      "text/html": [
       "<span style=\"color:#e1dad6;font-weight:bold;background-color: #ffffff;padding-top: 15px;padding-bottom: 15px;\"> Now </span> <span style=\"color:#b30326;font-weight:bold;background-color: #ffffff;padding-top: 15px;padding-bottom: 15px;\"> you </span> <span style=\"color:#4c66d6;font-weight:bold;background-color: #ffffff;padding-top: 15px;padding-bottom: 15px;\"> mail </span> <span style=\"color:#dfdbd9;font-weight:bold;background-color: #ffffff;padding-top: 15px;padding-bottom: 15px;\"> back </span> <span style=\"color:#d5dbe5;font-weight:bold;background-color: #ffffff;padding-top: 15px;padding-bottom: 15px;\"> my </span> <span style=\"color:#a3c1fe;font-weight:bold;background-color: #ffffff;padding-top: 15px;padding-bottom: 15px;\"> things </span> <span style=\"color:#e7d6cd;font-weight:bold;background-color: #ffffff;padding-top: 15px;padding-bottom: 15px;\"> and </span> <span style=\"color:#9fbefe;font-weight:bold;background-color: #ffffff;padding-top: 15px;padding-bottom: 15px;\"> I </span> <span style=\"color:#f19072;font-weight:bold;background-color: #ffffff;padding-top: 15px;padding-bottom: 15px;\"> walk </span> <span style=\"color:#e0dad7;font-weight:bold;background-color: #ffffff;padding-top: 15px;padding-bottom: 15px;\"> home </span> <span style=\"color:#afcafb;font-weight:bold;background-color: #ffffff;padding-top: 15px;padding-bottom: 15px;\"> alone </span> "
      ],
      "text/plain": [
       "<IPython.core.display.HTML object>"
      ]
     },
     "metadata": {},
     "output_type": "display_data"
    },
    {
     "name": "stdout",
     "output_type": "stream",
     "text": [
      "Relevance of combined embeddings:\n"
     ]
    },
    {
     "data": {
      "text/html": [
       "<span style=\"color:#cdd9ec;font-weight:bold;background-color: #ffffff;padding-top: 15px;padding-bottom: 15px;\"> Now </span> <span style=\"color:#e0dad7;font-weight:bold;background-color: #ffffff;padding-top: 15px;padding-bottom: 15px;\"> you </span> <span style=\"color:#f6bda4;font-weight:bold;background-color: #ffffff;padding-top: 15px;padding-bottom: 15px;\"> mail </span> <span style=\"color:#dcdcdd;font-weight:bold;background-color: #ffffff;padding-top: 15px;padding-bottom: 15px;\"> back </span> <span style=\"color:#e3d9d3;font-weight:bold;background-color: #ffffff;padding-top: 15px;padding-bottom: 15px;\"> my </span> <span style=\"color:#d9dce0;font-weight:bold;background-color: #ffffff;padding-top: 15px;padding-bottom: 15px;\"> things </span> <span style=\"color:#dbdcde;font-weight:bold;background-color: #ffffff;padding-top: 15px;padding-bottom: 15px;\"> and </span> <span style=\"color:#e3d9d3;font-weight:bold;background-color: #ffffff;padding-top: 15px;padding-bottom: 15px;\"> I </span> <span style=\"color:#acc8fc;font-weight:bold;background-color: #ffffff;padding-top: 15px;padding-bottom: 15px;\"> walk </span> <span style=\"color:#ecd2c4;font-weight:bold;background-color: #ffffff;padding-top: 15px;padding-bottom: 15px;\"> home </span> <span style=\"color:#b30326;font-weight:bold;background-color: #ffffff;padding-top: 15px;padding-bottom: 15px;\"> alone </span> "
      ],
      "text/plain": [
       "<IPython.core.display.HTML object>"
      ]
     },
     "metadata": {},
     "output_type": "display_data"
    }
   ],
   "source": [
    "sample = test[\"verse_text\"][76]\n",
    "output = plot_attr_forward_pass(sample)\n",
    "plot_lrp_scores(sample, output)"
   ]
  },
  {
   "cell_type": "code",
   "execution_count": 65,
   "metadata": {},
   "outputs": [
    {
     "name": "stdout",
     "output_type": "stream",
     "text": [
      "LRP results for sentence He's gonna say it's love\n",
      "Attr Forward Pass Output:\n",
      "[[-2.0716417  2.66965    1.1471639 -1.460388 ]]\n",
      "LRP Scores:\n",
      "He: 0.17884644893150842\n",
      "': 0.047792932278276364\n",
      "s: 0.11474945947259482\n",
      "gonna: 0.005484593067935584\n",
      "say: 1.2531748446033983\n",
      "it: -0.3093842341171\n",
      "': -0.020012210592356673\n",
      "s: 0.04579449521539893\n",
      "love: -0.6935180079603283\n",
      "Relevance of word embeddings:\n"
     ]
    },
    {
     "data": {
      "text/html": [
       "<span style=\"color:#efcdbb;font-weight:bold;background-color: #ffffff;padding-top: 15px;padding-bottom: 15px;\"> He </span> <span style=\"color:#e0dad7;font-weight:bold;background-color: #ffffff;padding-top: 15px;padding-bottom: 15px;\"> ' </span> <span style=\"color:#e9d4c9;font-weight:bold;background-color: #ffffff;padding-top: 15px;padding-bottom: 15px;\"> s </span> <span style=\"color:#bed3f5;font-weight:bold;background-color: #ffffff;padding-top: 15px;padding-bottom: 15px;\"> gonna </span> <span style=\"color:#b30326;font-weight:bold;background-color: #ffffff;padding-top: 15px;padding-bottom: 15px;\"> say </span> <span style=\"color:#b6cef9;font-weight:bold;background-color: #ffffff;padding-top: 15px;padding-bottom: 15px;\"> it </span> <span style=\"color:#dadcdf;font-weight:bold;background-color: #ffffff;padding-top: 15px;padding-bottom: 15px;\"> ' </span> <span style=\"color:#e1dad6;font-weight:bold;background-color: #ffffff;padding-top: 15px;padding-bottom: 15px;\"> s </span> <span style=\"color:#6b8df0;font-weight:bold;background-color: #ffffff;padding-top: 15px;padding-bottom: 15px;\"> love </span> "
      ],
      "text/plain": [
       "<IPython.core.display.HTML object>"
      ]
     },
     "metadata": {},
     "output_type": "display_data"
    },
    {
     "name": "stdout",
     "output_type": "stream",
     "text": [
      "Relevance of positional embeddings:\n"
     ]
    },
    {
     "data": {
      "text/html": [
       "<span style=\"color:#ecd1c3;font-weight:bold;background-color: #ffffff;padding-top: 15px;padding-bottom: 15px;\"> He </span> <span style=\"color:#e4d8d1;font-weight:bold;background-color: #ffffff;padding-top: 15px;padding-bottom: 15px;\"> ' </span> <span style=\"color:#e0dad7;font-weight:bold;background-color: #ffffff;padding-top: 15px;padding-bottom: 15px;\"> s </span> <span style=\"color:#f4c2aa;font-weight:bold;background-color: #ffffff;padding-top: 15px;padding-bottom: 15px;\"> gonna </span> <span style=\"color:#b30326;font-weight:bold;background-color: #ffffff;padding-top: 15px;padding-bottom: 15px;\"> say </span> <span style=\"color:#f5c0a7;font-weight:bold;background-color: #ffffff;padding-top: 15px;padding-bottom: 15px;\"> it </span> <span style=\"color:#d0dae9;font-weight:bold;background-color: #ffffff;padding-top: 15px;padding-bottom: 15px;\"> ' </span> <span style=\"color:#e6d7cf;font-weight:bold;background-color: #ffffff;padding-top: 15px;padding-bottom: 15px;\"> s </span> <span style=\"color:#f4c4ad;font-weight:bold;background-color: #ffffff;padding-top: 15px;padding-bottom: 15px;\"> love </span> "
      ],
      "text/plain": [
       "<IPython.core.display.HTML object>"
      ]
     },
     "metadata": {},
     "output_type": "display_data"
    },
    {
     "name": "stdout",
     "output_type": "stream",
     "text": [
      "Relevance of type embeddings:\n"
     ]
    },
    {
     "data": {
      "text/html": [
       "<span style=\"color:#9dbdfe;font-weight:bold;background-color: #ffffff;padding-top: 15px;padding-bottom: 15px;\"> He </span> <span style=\"color:#e1dad6;font-weight:bold;background-color: #ffffff;padding-top: 15px;padding-bottom: 15px;\"> ' </span> <span style=\"color:#d7dbe2;font-weight:bold;background-color: #ffffff;padding-top: 15px;padding-bottom: 15px;\"> s </span> <span style=\"color:#f6a687;font-weight:bold;background-color: #ffffff;padding-top: 15px;padding-bottom: 15px;\"> gonna </span> <span style=\"color:#3a4cc0;font-weight:bold;background-color: #ffffff;padding-top: 15px;padding-bottom: 15px;\"> say </span> <span style=\"color:#6586ec;font-weight:bold;background-color: #ffffff;padding-top: 15px;padding-bottom: 15px;\"> it </span> <span style=\"color:#efcebc;font-weight:bold;background-color: #ffffff;padding-top: 15px;padding-bottom: 15px;\"> ' </span> <span style=\"color:#bcd1f6;font-weight:bold;background-color: #ffffff;padding-top: 15px;padding-bottom: 15px;\"> s </span> <span style=\"color:#dfdbd9;font-weight:bold;background-color: #ffffff;padding-top: 15px;padding-bottom: 15px;\"> love </span> "
      ],
      "text/plain": [
       "<IPython.core.display.HTML object>"
      ]
     },
     "metadata": {},
     "output_type": "display_data"
    },
    {
     "name": "stdout",
     "output_type": "stream",
     "text": [
      "Relevance of combined embeddings:\n"
     ]
    },
    {
     "data": {
      "text/html": [
       "<span style=\"color:#edd0c1;font-weight:bold;background-color: #ffffff;padding-top: 15px;padding-bottom: 15px;\"> He </span> <span style=\"color:#e1dad6;font-weight:bold;background-color: #ffffff;padding-top: 15px;padding-bottom: 15px;\"> ' </span> <span style=\"color:#e7d6cc;font-weight:bold;background-color: #ffffff;padding-top: 15px;padding-bottom: 15px;\"> s </span> <span style=\"color:#dddcdb;font-weight:bold;background-color: #ffffff;padding-top: 15px;padding-bottom: 15px;\"> gonna </span> <span style=\"color:#b30326;font-weight:bold;background-color: #ffffff;padding-top: 15px;padding-bottom: 15px;\"> say </span> <span style=\"color:#b8cff8;font-weight:bold;background-color: #ffffff;padding-top: 15px;padding-bottom: 15px;\"> it </span> <span style=\"color:#dadcdf;font-weight:bold;background-color: #ffffff;padding-top: 15px;padding-bottom: 15px;\"> ' </span> <span style=\"color:#e1dad6;font-weight:bold;background-color: #ffffff;padding-top: 15px;padding-bottom: 15px;\"> s </span> <span style=\"color:#83a6fb;font-weight:bold;background-color: #ffffff;padding-top: 15px;padding-bottom: 15px;\"> love </span> "
      ],
      "text/plain": [
       "<IPython.core.display.HTML object>"
      ]
     },
     "metadata": {},
     "output_type": "display_data"
    }
   ],
   "source": [
    "sample = test[\"verse_text\"][25]\n",
    "output = plot_attr_forward_pass(sample)\n",
    "plot_lrp_scores(sample, output)"
   ]
  }
 ],
 "metadata": {
  "kernelspec": {
   "display_name": "venv",
   "language": "python",
   "name": "python3"
  },
  "language_info": {
   "codemirror_mode": {
    "name": "ipython",
    "version": 3
   },
   "file_extension": ".py",
   "mimetype": "text/x-python",
   "name": "python",
   "nbconvert_exporter": "python",
   "pygments_lexer": "ipython3",
   "version": "3.12.1"
  }
 },
 "nbformat": 4,
 "nbformat_minor": 2
}
